{
 "cells": [
  {
   "cell_type": "markdown",
   "id": "8d516290",
   "metadata": {},
   "source": [
    "# Projeto ETL para Dados do YouTube\n",
    "\n",
    "Este projeto implementa um processo ETL básico (Extração, Transformação e Carregamento) para dados de vídeos do YouTube. Ele extrai informações de vídeos com base nos IDs fornecidos, realiza uma transformação mínima e salva os dados em um arquivo CSV.\n",
    "\n",
    "## Configuração\n",
    "\n",
    "Antes de executar o código, você precisa configurar a chave de API do YouTube. Siga as instruções abaixo:\n",
    "\n",
    "1. Obtenha uma chave de API do YouTube: [YouTube API Key](https://developers.google.com/youtube/registering_an_application)\n",
    "2. Substitua `\"SUA_CHAVE_DE_API_AQUI\"` pela sua chave de API no arquivo `main.py`.\n",
    "\n",
    "## Uso\n",
    "\n",
    "1. Certifique-se de ter o Python instalado em sua máquina.\n",
    "2. Instale as dependências necessárias usando `pip install -r requirements.txt`.\n",
    "3. Execute o código usando `python main.py`.\n",
    "\n",
    "O código irá extrair informações de um vídeo do YouTube, realizar uma transformação mínima e salvar os dados em um arquivo CSV.\n",
    "\n",
    "## Estrutura do Projeto\n",
    "\n",
    "- `main.py`: O código principal que contém a lógica do ETL.\n",
    "- `youtube_data_extraction.py`: Contém funções para extrair dados do YouTube.\n",
    "- `youtube_data_transformation.py`: Contém funções para transformar os dados extraídos.\n",
    "- `requirements.txt`: Lista das dependências do projeto.\n",
    "\n"
   ]
  },
  {
   "cell_type": "code",
   "execution_count": 2,
   "id": "3127dbe8",
   "metadata": {},
   "outputs": [
    {
     "name": "stdout",
     "output_type": "stream",
     "text": [
      "Collecting google-api-python-client\n",
      "  Downloading google_api_python_client-2.99.0-py2.py3-none-any.whl (12.2 MB)\n",
      "     ---------------------------------------- 12.2/12.2 MB 7.5 MB/s eta 0:00:00\n",
      "Collecting google-auth<3.0.0.dev0,>=1.19.0\n",
      "  Downloading google_auth-2.23.0-py2.py3-none-any.whl (181 kB)\n",
      "     -------------------------------------- 181.4/181.4 kB 5.5 MB/s eta 0:00:00\n",
      "Collecting google-api-core!=2.0.*,!=2.1.*,!=2.2.*,!=2.3.0,<3.0.0.dev0,>=1.31.5\n",
      "  Downloading google_api_core-2.11.1-py3-none-any.whl (120 kB)\n",
      "     -------------------------------------- 120.5/120.5 kB 7.4 MB/s eta 0:00:00\n",
      "Collecting uritemplate<5,>=3.0.1\n",
      "  Downloading uritemplate-4.1.1-py2.py3-none-any.whl (10 kB)\n",
      "Collecting httplib2<1.dev0,>=0.15.0\n",
      "  Downloading httplib2-0.22.0-py3-none-any.whl (96 kB)\n",
      "     ---------------------------------------- 96.9/96.9 kB 5.4 MB/s eta 0:00:00\n",
      "Collecting google-auth-httplib2>=0.1.0\n",
      "  Downloading google_auth_httplib2-0.1.1-py2.py3-none-any.whl (9.3 kB)\n",
      "Requirement already satisfied: requests<3.0.0.dev0,>=2.18.0 in c:\\users\\user\\anaconda3\\lib\\site-packages (from google-api-core!=2.0.*,!=2.1.*,!=2.2.*,!=2.3.0,<3.0.0.dev0,>=1.31.5->google-api-python-client) (2.28.1)\n",
      "Collecting googleapis-common-protos<2.0.dev0,>=1.56.2\n",
      "  Downloading googleapis_common_protos-1.60.0-py2.py3-none-any.whl (227 kB)\n",
      "     -------------------------------------- 227.6/227.6 kB 4.6 MB/s eta 0:00:00\n",
      "Collecting protobuf!=3.20.0,!=3.20.1,!=4.21.0,!=4.21.1,!=4.21.2,!=4.21.3,!=4.21.4,!=4.21.5,<5.0.0.dev0,>=3.19.5\n",
      "  Downloading protobuf-4.24.3-cp310-abi3-win_amd64.whl (430 kB)\n",
      "     -------------------------------------- 430.5/430.5 kB 5.4 MB/s eta 0:00:00\n",
      "Collecting rsa<5,>=3.1.4\n",
      "  Downloading rsa-4.9-py3-none-any.whl (34 kB)\n",
      "Collecting cachetools<6.0,>=2.0.0\n",
      "  Downloading cachetools-5.3.1-py3-none-any.whl (9.3 kB)\n",
      "Requirement already satisfied: urllib3<2.0 in c:\\users\\user\\anaconda3\\lib\\site-packages (from google-auth<3.0.0.dev0,>=1.19.0->google-api-python-client) (1.26.14)\n",
      "Requirement already satisfied: pyasn1-modules>=0.2.1 in c:\\users\\user\\anaconda3\\lib\\site-packages (from google-auth<3.0.0.dev0,>=1.19.0->google-api-python-client) (0.2.8)\n",
      "Requirement already satisfied: pyparsing!=3.0.0,!=3.0.1,!=3.0.2,!=3.0.3,<4,>=2.4.2 in c:\\users\\user\\anaconda3\\lib\\site-packages (from httplib2<1.dev0,>=0.15.0->google-api-python-client) (3.0.9)\n",
      "Requirement already satisfied: pyasn1<0.5.0,>=0.4.6 in c:\\users\\user\\anaconda3\\lib\\site-packages (from pyasn1-modules>=0.2.1->google-auth<3.0.0.dev0,>=1.19.0->google-api-python-client) (0.4.8)\n",
      "Requirement already satisfied: idna<4,>=2.5 in c:\\users\\user\\anaconda3\\lib\\site-packages (from requests<3.0.0.dev0,>=2.18.0->google-api-core!=2.0.*,!=2.1.*,!=2.2.*,!=2.3.0,<3.0.0.dev0,>=1.31.5->google-api-python-client) (3.4)\n",
      "Requirement already satisfied: charset-normalizer<3,>=2 in c:\\users\\user\\anaconda3\\lib\\site-packages (from requests<3.0.0.dev0,>=2.18.0->google-api-core!=2.0.*,!=2.1.*,!=2.2.*,!=2.3.0,<3.0.0.dev0,>=1.31.5->google-api-python-client) (2.0.4)\n",
      "Requirement already satisfied: certifi>=2017.4.17 in c:\\users\\user\\anaconda3\\lib\\site-packages (from requests<3.0.0.dev0,>=2.18.0->google-api-core!=2.0.*,!=2.1.*,!=2.2.*,!=2.3.0,<3.0.0.dev0,>=1.31.5->google-api-python-client) (2022.12.7)\n",
      "Installing collected packages: uritemplate, rsa, protobuf, httplib2, cachetools, googleapis-common-protos, google-auth, google-auth-httplib2, google-api-core, google-api-python-client\n",
      "Successfully installed cachetools-5.3.1 google-api-core-2.11.1 google-api-python-client-2.99.0 google-auth-2.23.0 google-auth-httplib2-0.1.1 googleapis-common-protos-1.60.0 httplib2-0.22.0 protobuf-4.24.3 rsa-4.9 uritemplate-4.1.1\n"
     ]
    }
   ],
   "source": [
    "!pip install google-api-python-client\n"
   ]
  },
  {
   "cell_type": "code",
   "execution_count": 15,
   "id": "f74af030",
   "metadata": {
    "scrolled": true
   },
   "outputs": [
    {
     "name": "stdout",
     "output_type": "stream",
     "text": [
      "Iniciando extração e processamento de dados...\n",
      "Diretório de destino: C:\\Users\\User\\Desktop\n",
      "Vídeo ID: 7ahwFZcU0dk\n",
      "Dados do vídeo extraídos com sucesso.\n",
      "Dados do vídeo transformados com sucesso.\n",
      "Iniciando carregamento dos dados no arquivo CSV...\n",
      "Dados extraídos e salvos no arquivo youtube_video_data.csv.\n",
      "Processo concluído.\n"
     ]
    }
   ],
   "source": [
    "import os\n",
    "import csv\n",
    "from googleapiclient.discovery import build\n",
    "\n",
    "# Configuração da chave de API do YouTube\n",
    "API_KEY = \"SUA_CHAVE_DE_API_DO_YOUTUBE\"  # Substitua pela sua chave de API\n",
    "\n",
    "# Restante do código...\n",
    "\n",
    "if __name__ == '__main__':\n",
    "    print('Iniciando extração e processamento de dados...')\n",
    "    \n",
    "    # Especifique o diretório onde deseja salvar o arquivo\n",
    "    directory = 'CAMINHO_PARA_O_DIRETORIO'  # Substitua pelo caminho desejado\n",
    "    print('Diretório de destino:', directory)\n",
    "\n",
    "    # Vídeo de exemplo (substitua pelo vídeo desejado)\n",
    "    video_id = ID_DO_VIDEO'\n",
    "    print('Vídeo ID:', video_id)\n",
    "\n",
    "    # Extração\n",
    "    video_data = extract_video_data(video_id)\n",
    "    print('Dados do vídeo extraídos com sucesso.')\n",
    "\n",
    "    # Transformação\n",
    "    transformed_data = transform_data(video_data)\n",
    "    print('Dados do vídeo transformados com sucesso.')\n",
    "\n",
    "    # Carregamento\n",
    "    print('Iniciando carregamento dos dados no arquivo CSV...')\n",
    "    load_data_to_csv(transformed_data, directory)\n",
    "    print('Dados extraídos e salvos no arquivo youtube_video_data.csv.')\n",
    "\n",
    "    print('Processo concluído.')\n",
    "\n"
   ]
  },
  {
   "cell_type": "code",
   "execution_count": null,
   "id": "1487e808",
   "metadata": {},
   "outputs": [],
   "source": []
  }
 ],
 "metadata": {
  "kernelspec": {
   "display_name": "Python 3 (ipykernel)",
   "language": "python",
   "name": "python3"
  },
  "language_info": {
   "codemirror_mode": {
    "name": "ipython",
    "version": 3
   },
   "file_extension": ".py",
   "mimetype": "text/x-python",
   "name": "python",
   "nbconvert_exporter": "python",
   "pygments_lexer": "ipython3",
   "version": "3.10.9"
  }
 },
 "nbformat": 4,
 "nbformat_minor": 5
}
